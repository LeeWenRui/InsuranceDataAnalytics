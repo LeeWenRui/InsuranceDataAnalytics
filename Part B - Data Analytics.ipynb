{
 "cells": [
  {
   "cell_type": "markdown",
   "id": "f86bcfca",
   "metadata": {},
   "source": [
    "# Part 2 - Analytics : Health Insurance"
   ]
  },
  {
   "cell_type": "markdown",
   "id": "c35ff5fe",
   "metadata": {},
   "source": [
    "## 1. Attribute Information\n",
    "- dataset used: health_insurance.csv <br>\n",
    "- age: Age of policy holder <br>\n",
    "- sex: gender of policy holder (female=0, male=1) <br>\n",
    "- bmi: Body mass index, providing an understanding of body, weights that are relatively high or low relative to height, objective index of body weight (kg /  m^2 ) using the ratio of height to weight, ideally 18.5 to 25 <br>\n",
    "- steps: average walking steps per day of policy holder <br>\n",
    "- children: number of children / dependents of policy holder\n",
    "- smoker: smoking state of policyholder (non-smoker=0, smoker=1 ) <br>\n",
    "- region: The residential area of policyholder in the US (northeast=0, northwest=1, southeast=2, southwest=3) <br>\n",
    "- charges: Individual medical costs billed by hospital <br>\n",
    "- Insuranceclaim: claimed any insurance before (yes=1, no=0)\n"
   ]
  },
  {
   "cell_type": "markdown",
   "id": "72318de3",
   "metadata": {},
   "source": [
    "## 2. Importing the libraries"
   ]
  },
  {
   "cell_type": "code",
   "execution_count": 1,
   "id": "610c22f6",
   "metadata": {},
   "outputs": [],
   "source": [
    "# loading necessary libraries\n",
    "import numpy as np \n",
    "import pandas as pd # data analysis/manipulation\n",
    "import matplotlib.pyplot as plt # display graph"
   ]
  },
  {
   "cell_type": "markdown",
   "id": "ea618cc6",
   "metadata": {},
   "source": [
    "## 3. Loading the data"
   ]
  },
  {
   "cell_type": "code",
   "execution_count": 2,
   "id": "5820113c",
   "metadata": {},
   "outputs": [
    {
     "data": {
      "text/html": [
       "<div>\n",
       "<style scoped>\n",
       "    .dataframe tbody tr th:only-of-type {\n",
       "        vertical-align: middle;\n",
       "    }\n",
       "\n",
       "    .dataframe tbody tr th {\n",
       "        vertical-align: top;\n",
       "    }\n",
       "\n",
       "    .dataframe thead th {\n",
       "        text-align: right;\n",
       "    }\n",
       "</style>\n",
       "<table border=\"1\" class=\"dataframe\">\n",
       "  <thead>\n",
       "    <tr style=\"text-align: right;\">\n",
       "      <th></th>\n",
       "      <th>age</th>\n",
       "      <th>sex</th>\n",
       "      <th>bmi</th>\n",
       "      <th>steps</th>\n",
       "      <th>children</th>\n",
       "      <th>smoker</th>\n",
       "      <th>region</th>\n",
       "      <th>charges</th>\n",
       "      <th>insuranceclaim</th>\n",
       "    </tr>\n",
       "  </thead>\n",
       "  <tbody>\n",
       "    <tr>\n",
       "      <th>0</th>\n",
       "      <td>19</td>\n",
       "      <td>0</td>\n",
       "      <td>27.900</td>\n",
       "      <td>3009</td>\n",
       "      <td>0</td>\n",
       "      <td>1</td>\n",
       "      <td>3</td>\n",
       "      <td>16884.92</td>\n",
       "      <td>1</td>\n",
       "    </tr>\n",
       "    <tr>\n",
       "      <th>1</th>\n",
       "      <td>18</td>\n",
       "      <td>1</td>\n",
       "      <td>33.770</td>\n",
       "      <td>3008</td>\n",
       "      <td>1</td>\n",
       "      <td>0</td>\n",
       "      <td>2</td>\n",
       "      <td>1725.55</td>\n",
       "      <td>1</td>\n",
       "    </tr>\n",
       "    <tr>\n",
       "      <th>2</th>\n",
       "      <td>28</td>\n",
       "      <td>1</td>\n",
       "      <td>33.000</td>\n",
       "      <td>3009</td>\n",
       "      <td>3</td>\n",
       "      <td>0</td>\n",
       "      <td>2</td>\n",
       "      <td>4449.46</td>\n",
       "      <td>0</td>\n",
       "    </tr>\n",
       "    <tr>\n",
       "      <th>3</th>\n",
       "      <td>33</td>\n",
       "      <td>1</td>\n",
       "      <td>22.705</td>\n",
       "      <td>10009</td>\n",
       "      <td>0</td>\n",
       "      <td>0</td>\n",
       "      <td>1</td>\n",
       "      <td>21984.47</td>\n",
       "      <td>0</td>\n",
       "    </tr>\n",
       "    <tr>\n",
       "      <th>4</th>\n",
       "      <td>32</td>\n",
       "      <td>1</td>\n",
       "      <td>28.880</td>\n",
       "      <td>8010</td>\n",
       "      <td>0</td>\n",
       "      <td>0</td>\n",
       "      <td>1</td>\n",
       "      <td>3866.86</td>\n",
       "      <td>1</td>\n",
       "    </tr>\n",
       "  </tbody>\n",
       "</table>\n",
       "</div>"
      ],
      "text/plain": [
       "   age  sex     bmi  steps  children  smoker  region   charges  insuranceclaim\n",
       "0   19    0  27.900   3009         0       1       3  16884.92               1\n",
       "1   18    1  33.770   3008         1       0       2   1725.55               1\n",
       "2   28    1  33.000   3009         3       0       2   4449.46               0\n",
       "3   33    1  22.705  10009         0       0       1  21984.47               0\n",
       "4   32    1  28.880   8010         0       0       1   3866.86               1"
      ]
     },
     "execution_count": 2,
     "metadata": {},
     "output_type": "execute_result"
    }
   ],
   "source": [
    "data = pd.read_csv('health_insurance.csv') # reading the csv file\n",
    "data.head() # review fisrt 5 rows of data"
   ]
  },
  {
   "cell_type": "markdown",
   "id": "70b13a15",
   "metadata": {},
   "source": [
    "## 4. Exploratory Data Analysis\n",
    "This is to help us understand the data we are working on. For example, the shape and data types of the data, as well as conducting data cleaning if necessary."
   ]
  },
  {
   "cell_type": "markdown",
   "id": "c7492c93",
   "metadata": {},
   "source": [
    "### 4.1 Shape"
   ]
  },
  {
   "cell_type": "code",
   "execution_count": 3,
   "id": "38cbb944",
   "metadata": {},
   "outputs": [
    {
     "name": "stdout",
     "output_type": "stream",
     "text": [
      "Shape of the data: (1338, 9)\n",
      "There are 1338 rows in the data.\n"
     ]
    }
   ],
   "source": [
    "print(f'Shape of the data: {data.shape}')\n",
    "print(f'There are {data.shape[0]} rows in the data.')"
   ]
  },
  {
   "cell_type": "markdown",
   "id": "4be47da1",
   "metadata": {},
   "source": [
    "We have 1338 rows (1338 records) and 9 columns of data."
   ]
  },
  {
   "cell_type": "markdown",
   "id": "fe4fbb68",
   "metadata": {},
   "source": [
    "### 4.2 Data Types"
   ]
  },
  {
   "cell_type": "code",
   "execution_count": 4,
   "id": "c31c32eb",
   "metadata": {},
   "outputs": [
    {
     "name": "stdout",
     "output_type": "stream",
     "text": [
      "<class 'pandas.core.frame.DataFrame'>\n",
      "RangeIndex: 1338 entries, 0 to 1337\n",
      "Data columns (total 9 columns):\n",
      " #   Column          Non-Null Count  Dtype  \n",
      "---  ------          --------------  -----  \n",
      " 0   age             1338 non-null   int64  \n",
      " 1   sex             1338 non-null   int64  \n",
      " 2   bmi             1338 non-null   float64\n",
      " 3   steps           1338 non-null   int64  \n",
      " 4   children        1338 non-null   int64  \n",
      " 5   smoker          1338 non-null   int64  \n",
      " 6   region          1338 non-null   int64  \n",
      " 7   charges         1338 non-null   float64\n",
      " 8   insuranceclaim  1338 non-null   int64  \n",
      "dtypes: float64(2), int64(7)\n",
      "memory usage: 94.2 KB\n"
     ]
    }
   ],
   "source": [
    "data.info() # date types of each columns"
   ]
  },
  {
   "cell_type": "code",
   "execution_count": 5,
   "id": "87228d89",
   "metadata": {},
   "outputs": [
    {
     "data": {
      "text/plain": [
       "Index(['age', 'sex', 'bmi', 'steps', 'children', 'smoker', 'region', 'charges',\n",
       "       'insuranceclaim'],\n",
       "      dtype='object')"
      ]
     },
     "execution_count": 5,
     "metadata": {},
     "output_type": "execute_result"
    }
   ],
   "source": [
    "data.columns # individual columns"
   ]
  },
  {
   "cell_type": "markdown",
   "id": "f3debbfc",
   "metadata": {},
   "source": [
    "Qualitative Data (Categorical): sex, children, smoker, region, insuranceclaim <br>\n",
    "Quantitative Data (Numerical): age, bmi, steps, charges "
   ]
  },
  {
   "cell_type": "markdown",
   "id": "0db64356",
   "metadata": {},
   "source": [
    "### 4.3 Data Cleaning"
   ]
  },
  {
   "cell_type": "code",
   "execution_count": 6,
   "id": "23cb5fbd",
   "metadata": {},
   "outputs": [
    {
     "data": {
      "text/plain": [
       "age               False\n",
       "sex               False\n",
       "bmi               False\n",
       "steps             False\n",
       "children          False\n",
       "smoker            False\n",
       "region            False\n",
       "charges           False\n",
       "insuranceclaim    False\n",
       "dtype: bool"
      ]
     },
     "execution_count": 6,
     "metadata": {},
     "output_type": "execute_result"
    }
   ],
   "source": [
    "# check if the dataframe contains any missing or null values\n",
    "data.isnull().any() "
   ]
  },
  {
   "cell_type": "code",
   "execution_count": 7,
   "id": "1e875748",
   "metadata": {},
   "outputs": [
    {
     "data": {
      "text/html": [
       "<div>\n",
       "<style scoped>\n",
       "    .dataframe tbody tr th:only-of-type {\n",
       "        vertical-align: middle;\n",
       "    }\n",
       "\n",
       "    .dataframe tbody tr th {\n",
       "        vertical-align: top;\n",
       "    }\n",
       "\n",
       "    .dataframe thead th {\n",
       "        text-align: right;\n",
       "    }\n",
       "</style>\n",
       "<table border=\"1\" class=\"dataframe\">\n",
       "  <thead>\n",
       "    <tr style=\"text-align: right;\">\n",
       "      <th></th>\n",
       "      <th>age</th>\n",
       "      <th>sex</th>\n",
       "      <th>bmi</th>\n",
       "      <th>steps</th>\n",
       "      <th>children</th>\n",
       "      <th>smoker</th>\n",
       "      <th>region</th>\n",
       "      <th>charges</th>\n",
       "      <th>insuranceclaim</th>\n",
       "    </tr>\n",
       "  </thead>\n",
       "  <tbody>\n",
       "    <tr>\n",
       "      <th>0</th>\n",
       "      <td>19</td>\n",
       "      <td>female</td>\n",
       "      <td>27.900</td>\n",
       "      <td>3009</td>\n",
       "      <td>0</td>\n",
       "      <td>1</td>\n",
       "      <td>3</td>\n",
       "      <td>16884.92</td>\n",
       "      <td>1</td>\n",
       "    </tr>\n",
       "    <tr>\n",
       "      <th>1</th>\n",
       "      <td>18</td>\n",
       "      <td>male</td>\n",
       "      <td>33.770</td>\n",
       "      <td>3008</td>\n",
       "      <td>1</td>\n",
       "      <td>0</td>\n",
       "      <td>2</td>\n",
       "      <td>1725.55</td>\n",
       "      <td>1</td>\n",
       "    </tr>\n",
       "    <tr>\n",
       "      <th>2</th>\n",
       "      <td>28</td>\n",
       "      <td>male</td>\n",
       "      <td>33.000</td>\n",
       "      <td>3009</td>\n",
       "      <td>3</td>\n",
       "      <td>0</td>\n",
       "      <td>2</td>\n",
       "      <td>4449.46</td>\n",
       "      <td>0</td>\n",
       "    </tr>\n",
       "    <tr>\n",
       "      <th>3</th>\n",
       "      <td>33</td>\n",
       "      <td>male</td>\n",
       "      <td>22.705</td>\n",
       "      <td>10009</td>\n",
       "      <td>0</td>\n",
       "      <td>0</td>\n",
       "      <td>1</td>\n",
       "      <td>21984.47</td>\n",
       "      <td>0</td>\n",
       "    </tr>\n",
       "    <tr>\n",
       "      <th>4</th>\n",
       "      <td>32</td>\n",
       "      <td>male</td>\n",
       "      <td>28.880</td>\n",
       "      <td>8010</td>\n",
       "      <td>0</td>\n",
       "      <td>0</td>\n",
       "      <td>1</td>\n",
       "      <td>3866.86</td>\n",
       "      <td>1</td>\n",
       "    </tr>\n",
       "  </tbody>\n",
       "</table>\n",
       "</div>"
      ],
      "text/plain": [
       "   age     sex     bmi  steps  children  smoker  region   charges  \\\n",
       "0   19  female  27.900   3009         0       1       3  16884.92   \n",
       "1   18    male  33.770   3008         1       0       2   1725.55   \n",
       "2   28    male  33.000   3009         3       0       2   4449.46   \n",
       "3   33    male  22.705  10009         0       0       1  21984.47   \n",
       "4   32    male  28.880   8010         0       0       1   3866.86   \n",
       "\n",
       "   insuranceclaim  \n",
       "0               1  \n",
       "1               1  \n",
       "2               0  \n",
       "3               0  \n",
       "4               1  "
      ]
     },
     "execution_count": 7,
     "metadata": {},
     "output_type": "execute_result"
    }
   ],
   "source": [
    "# gender: changing values \n",
    "# 1 = male, 0 = female\n",
    "data['sex'].replace(0, 'female',inplace=True)\n",
    "data['sex'].replace(1, 'male',inplace=True)\n",
    "data.head()"
   ]
  },
  {
   "cell_type": "code",
   "execution_count": 8,
   "id": "3f749bee",
   "metadata": {
    "scrolled": true
   },
   "outputs": [
    {
     "data": {
      "text/html": [
       "<div>\n",
       "<style scoped>\n",
       "    .dataframe tbody tr th:only-of-type {\n",
       "        vertical-align: middle;\n",
       "    }\n",
       "\n",
       "    .dataframe tbody tr th {\n",
       "        vertical-align: top;\n",
       "    }\n",
       "\n",
       "    .dataframe thead th {\n",
       "        text-align: right;\n",
       "    }\n",
       "</style>\n",
       "<table border=\"1\" class=\"dataframe\">\n",
       "  <thead>\n",
       "    <tr style=\"text-align: right;\">\n",
       "      <th></th>\n",
       "      <th>age</th>\n",
       "      <th>sex</th>\n",
       "      <th>bmi</th>\n",
       "      <th>steps</th>\n",
       "      <th>children</th>\n",
       "      <th>smoker</th>\n",
       "      <th>region</th>\n",
       "      <th>charges</th>\n",
       "      <th>insuranceclaim</th>\n",
       "    </tr>\n",
       "  </thead>\n",
       "  <tbody>\n",
       "    <tr>\n",
       "      <th>0</th>\n",
       "      <td>19</td>\n",
       "      <td>female</td>\n",
       "      <td>27.900</td>\n",
       "      <td>3009</td>\n",
       "      <td>0</td>\n",
       "      <td>1</td>\n",
       "      <td>southwest</td>\n",
       "      <td>16884.92</td>\n",
       "      <td>1</td>\n",
       "    </tr>\n",
       "    <tr>\n",
       "      <th>1</th>\n",
       "      <td>18</td>\n",
       "      <td>male</td>\n",
       "      <td>33.770</td>\n",
       "      <td>3008</td>\n",
       "      <td>1</td>\n",
       "      <td>0</td>\n",
       "      <td>southeast</td>\n",
       "      <td>1725.55</td>\n",
       "      <td>1</td>\n",
       "    </tr>\n",
       "    <tr>\n",
       "      <th>2</th>\n",
       "      <td>28</td>\n",
       "      <td>male</td>\n",
       "      <td>33.000</td>\n",
       "      <td>3009</td>\n",
       "      <td>3</td>\n",
       "      <td>0</td>\n",
       "      <td>southeast</td>\n",
       "      <td>4449.46</td>\n",
       "      <td>0</td>\n",
       "    </tr>\n",
       "    <tr>\n",
       "      <th>3</th>\n",
       "      <td>33</td>\n",
       "      <td>male</td>\n",
       "      <td>22.705</td>\n",
       "      <td>10009</td>\n",
       "      <td>0</td>\n",
       "      <td>0</td>\n",
       "      <td>northwest</td>\n",
       "      <td>21984.47</td>\n",
       "      <td>0</td>\n",
       "    </tr>\n",
       "    <tr>\n",
       "      <th>4</th>\n",
       "      <td>32</td>\n",
       "      <td>male</td>\n",
       "      <td>28.880</td>\n",
       "      <td>8010</td>\n",
       "      <td>0</td>\n",
       "      <td>0</td>\n",
       "      <td>northwest</td>\n",
       "      <td>3866.86</td>\n",
       "      <td>1</td>\n",
       "    </tr>\n",
       "  </tbody>\n",
       "</table>\n",
       "</div>"
      ],
      "text/plain": [
       "   age     sex     bmi  steps  children  smoker     region   charges  \\\n",
       "0   19  female  27.900   3009         0       1  southwest  16884.92   \n",
       "1   18    male  33.770   3008         1       0  southeast   1725.55   \n",
       "2   28    male  33.000   3009         3       0  southeast   4449.46   \n",
       "3   33    male  22.705  10009         0       0  northwest  21984.47   \n",
       "4   32    male  28.880   8010         0       0  northwest   3866.86   \n",
       "\n",
       "   insuranceclaim  \n",
       "0               1  \n",
       "1               1  \n",
       "2               0  \n",
       "3               0  \n",
       "4               1  "
      ]
     },
     "execution_count": 8,
     "metadata": {},
     "output_type": "execute_result"
    }
   ],
   "source": [
    "# region: changing values\n",
    "# (yes=1, no=0)\n",
    "data['region'].replace(0, 'northeast',inplace=True)\n",
    "data['region'].replace(1, 'northwest',inplace=True)\n",
    "data['region'].replace(2, 'southeast',inplace=True)\n",
    "data['region'].replace(3, 'southwest',inplace=True)\n",
    "data.head()"
   ]
  },
  {
   "cell_type": "code",
   "execution_count": 9,
   "id": "1d4cc845",
   "metadata": {},
   "outputs": [
    {
     "data": {
      "text/html": [
       "<div>\n",
       "<style scoped>\n",
       "    .dataframe tbody tr th:only-of-type {\n",
       "        vertical-align: middle;\n",
       "    }\n",
       "\n",
       "    .dataframe tbody tr th {\n",
       "        vertical-align: top;\n",
       "    }\n",
       "\n",
       "    .dataframe thead th {\n",
       "        text-align: right;\n",
       "    }\n",
       "</style>\n",
       "<table border=\"1\" class=\"dataframe\">\n",
       "  <thead>\n",
       "    <tr style=\"text-align: right;\">\n",
       "      <th></th>\n",
       "      <th>age</th>\n",
       "      <th>sex</th>\n",
       "      <th>bmi</th>\n",
       "      <th>steps</th>\n",
       "      <th>children</th>\n",
       "      <th>smoker</th>\n",
       "      <th>region</th>\n",
       "      <th>charges</th>\n",
       "      <th>insuranceclaim</th>\n",
       "    </tr>\n",
       "  </thead>\n",
       "  <tbody>\n",
       "    <tr>\n",
       "      <th>0</th>\n",
       "      <td>19</td>\n",
       "      <td>female</td>\n",
       "      <td>27.900</td>\n",
       "      <td>3009</td>\n",
       "      <td>0</td>\n",
       "      <td>1</td>\n",
       "      <td>southwest</td>\n",
       "      <td>16884.92</td>\n",
       "      <td>yes</td>\n",
       "    </tr>\n",
       "    <tr>\n",
       "      <th>1</th>\n",
       "      <td>18</td>\n",
       "      <td>male</td>\n",
       "      <td>33.770</td>\n",
       "      <td>3008</td>\n",
       "      <td>1</td>\n",
       "      <td>0</td>\n",
       "      <td>southeast</td>\n",
       "      <td>1725.55</td>\n",
       "      <td>yes</td>\n",
       "    </tr>\n",
       "    <tr>\n",
       "      <th>2</th>\n",
       "      <td>28</td>\n",
       "      <td>male</td>\n",
       "      <td>33.000</td>\n",
       "      <td>3009</td>\n",
       "      <td>3</td>\n",
       "      <td>0</td>\n",
       "      <td>southeast</td>\n",
       "      <td>4449.46</td>\n",
       "      <td>no</td>\n",
       "    </tr>\n",
       "    <tr>\n",
       "      <th>3</th>\n",
       "      <td>33</td>\n",
       "      <td>male</td>\n",
       "      <td>22.705</td>\n",
       "      <td>10009</td>\n",
       "      <td>0</td>\n",
       "      <td>0</td>\n",
       "      <td>northwest</td>\n",
       "      <td>21984.47</td>\n",
       "      <td>no</td>\n",
       "    </tr>\n",
       "    <tr>\n",
       "      <th>4</th>\n",
       "      <td>32</td>\n",
       "      <td>male</td>\n",
       "      <td>28.880</td>\n",
       "      <td>8010</td>\n",
       "      <td>0</td>\n",
       "      <td>0</td>\n",
       "      <td>northwest</td>\n",
       "      <td>3866.86</td>\n",
       "      <td>yes</td>\n",
       "    </tr>\n",
       "  </tbody>\n",
       "</table>\n",
       "</div>"
      ],
      "text/plain": [
       "   age     sex     bmi  steps  children  smoker     region   charges  \\\n",
       "0   19  female  27.900   3009         0       1  southwest  16884.92   \n",
       "1   18    male  33.770   3008         1       0  southeast   1725.55   \n",
       "2   28    male  33.000   3009         3       0  southeast   4449.46   \n",
       "3   33    male  22.705  10009         0       0  northwest  21984.47   \n",
       "4   32    male  28.880   8010         0       0  northwest   3866.86   \n",
       "\n",
       "  insuranceclaim  \n",
       "0            yes  \n",
       "1            yes  \n",
       "2             no  \n",
       "3             no  \n",
       "4            yes  "
      ]
     },
     "execution_count": 9,
     "metadata": {},
     "output_type": "execute_result"
    }
   ],
   "source": [
    "# Insuranceclaim: changing values\n",
    "# yes=1, no=0\n",
    "data['insuranceclaim'].replace(0, 'no',inplace=True)\n",
    "data['insuranceclaim'].replace(1, 'yes',inplace=True)\n",
    "data.head()"
   ]
  },
  {
   "cell_type": "code",
   "execution_count": 10,
   "id": "3b7cb57f",
   "metadata": {},
   "outputs": [
    {
     "data": {
      "text/html": [
       "<div>\n",
       "<style scoped>\n",
       "    .dataframe tbody tr th:only-of-type {\n",
       "        vertical-align: middle;\n",
       "    }\n",
       "\n",
       "    .dataframe tbody tr th {\n",
       "        vertical-align: top;\n",
       "    }\n",
       "\n",
       "    .dataframe thead th {\n",
       "        text-align: right;\n",
       "    }\n",
       "</style>\n",
       "<table border=\"1\" class=\"dataframe\">\n",
       "  <thead>\n",
       "    <tr style=\"text-align: right;\">\n",
       "      <th></th>\n",
       "      <th>age</th>\n",
       "      <th>sex</th>\n",
       "      <th>bmi</th>\n",
       "      <th>steps</th>\n",
       "      <th>children</th>\n",
       "      <th>smoker</th>\n",
       "      <th>region</th>\n",
       "      <th>charges</th>\n",
       "      <th>insuranceclaim</th>\n",
       "    </tr>\n",
       "  </thead>\n",
       "  <tbody>\n",
       "    <tr>\n",
       "      <th>0</th>\n",
       "      <td>19</td>\n",
       "      <td>female</td>\n",
       "      <td>27.900</td>\n",
       "      <td>3009</td>\n",
       "      <td>0</td>\n",
       "      <td>smoker</td>\n",
       "      <td>southwest</td>\n",
       "      <td>16884.92</td>\n",
       "      <td>yes</td>\n",
       "    </tr>\n",
       "    <tr>\n",
       "      <th>1</th>\n",
       "      <td>18</td>\n",
       "      <td>male</td>\n",
       "      <td>33.770</td>\n",
       "      <td>3008</td>\n",
       "      <td>1</td>\n",
       "      <td>non-smoker</td>\n",
       "      <td>southeast</td>\n",
       "      <td>1725.55</td>\n",
       "      <td>yes</td>\n",
       "    </tr>\n",
       "    <tr>\n",
       "      <th>2</th>\n",
       "      <td>28</td>\n",
       "      <td>male</td>\n",
       "      <td>33.000</td>\n",
       "      <td>3009</td>\n",
       "      <td>3</td>\n",
       "      <td>non-smoker</td>\n",
       "      <td>southeast</td>\n",
       "      <td>4449.46</td>\n",
       "      <td>no</td>\n",
       "    </tr>\n",
       "    <tr>\n",
       "      <th>3</th>\n",
       "      <td>33</td>\n",
       "      <td>male</td>\n",
       "      <td>22.705</td>\n",
       "      <td>10009</td>\n",
       "      <td>0</td>\n",
       "      <td>non-smoker</td>\n",
       "      <td>northwest</td>\n",
       "      <td>21984.47</td>\n",
       "      <td>no</td>\n",
       "    </tr>\n",
       "    <tr>\n",
       "      <th>4</th>\n",
       "      <td>32</td>\n",
       "      <td>male</td>\n",
       "      <td>28.880</td>\n",
       "      <td>8010</td>\n",
       "      <td>0</td>\n",
       "      <td>non-smoker</td>\n",
       "      <td>northwest</td>\n",
       "      <td>3866.86</td>\n",
       "      <td>yes</td>\n",
       "    </tr>\n",
       "  </tbody>\n",
       "</table>\n",
       "</div>"
      ],
      "text/plain": [
       "   age     sex     bmi  steps  children      smoker     region   charges  \\\n",
       "0   19  female  27.900   3009         0      smoker  southwest  16884.92   \n",
       "1   18    male  33.770   3008         1  non-smoker  southeast   1725.55   \n",
       "2   28    male  33.000   3009         3  non-smoker  southeast   4449.46   \n",
       "3   33    male  22.705  10009         0  non-smoker  northwest  21984.47   \n",
       "4   32    male  28.880   8010         0  non-smoker  northwest   3866.86   \n",
       "\n",
       "  insuranceclaim  \n",
       "0            yes  \n",
       "1            yes  \n",
       "2             no  \n",
       "3             no  \n",
       "4            yes  "
      ]
     },
     "execution_count": 10,
     "metadata": {},
     "output_type": "execute_result"
    }
   ],
   "source": [
    "# smoker: changing values\n",
    "# non-smoker=0, smoker=1\n",
    "data['smoker'].replace(0, 'non-smoker',inplace=True)\n",
    "data['smoker'].replace(1, 'smoker',inplace=True)\n",
    "data.head()"
   ]
  },
  {
   "cell_type": "markdown",
   "id": "a2895be4",
   "metadata": {},
   "source": [
    "### 4.4. Summary and Distribution of numerical attributes:\n",
    "This is to help us get an overview of the important statistics of the numerical data. These includes: age, bmi, charges and steps\n"
   ]
  },
  {
   "cell_type": "code",
   "execution_count": 11,
   "id": "f2f28268",
   "metadata": {},
   "outputs": [
    {
     "data": {
      "text/html": [
       "<div>\n",
       "<style scoped>\n",
       "    .dataframe tbody tr th:only-of-type {\n",
       "        vertical-align: middle;\n",
       "    }\n",
       "\n",
       "    .dataframe tbody tr th {\n",
       "        vertical-align: top;\n",
       "    }\n",
       "\n",
       "    .dataframe thead th {\n",
       "        text-align: right;\n",
       "    }\n",
       "</style>\n",
       "<table border=\"1\" class=\"dataframe\">\n",
       "  <thead>\n",
       "    <tr style=\"text-align: right;\">\n",
       "      <th></th>\n",
       "      <th>count</th>\n",
       "      <th>mean</th>\n",
       "      <th>std</th>\n",
       "      <th>min</th>\n",
       "      <th>25%</th>\n",
       "      <th>50%</th>\n",
       "      <th>75%</th>\n",
       "      <th>max</th>\n",
       "    </tr>\n",
       "  </thead>\n",
       "  <tbody>\n",
       "    <tr>\n",
       "      <th>age</th>\n",
       "      <td>1338.0</td>\n",
       "      <td>39.207025</td>\n",
       "      <td>14.049960</td>\n",
       "      <td>18.00</td>\n",
       "      <td>27.00000</td>\n",
       "      <td>39.00</td>\n",
       "      <td>51.00000</td>\n",
       "      <td>64.00</td>\n",
       "    </tr>\n",
       "    <tr>\n",
       "      <th>bmi</th>\n",
       "      <td>1338.0</td>\n",
       "      <td>30.663397</td>\n",
       "      <td>6.098187</td>\n",
       "      <td>15.96</td>\n",
       "      <td>26.29625</td>\n",
       "      <td>30.40</td>\n",
       "      <td>34.69375</td>\n",
       "      <td>53.13</td>\n",
       "    </tr>\n",
       "    <tr>\n",
       "      <th>steps</th>\n",
       "      <td>1338.0</td>\n",
       "      <td>5328.623318</td>\n",
       "      <td>2453.643236</td>\n",
       "      <td>3000.00</td>\n",
       "      <td>3008.00000</td>\n",
       "      <td>4007.00</td>\n",
       "      <td>8004.00000</td>\n",
       "      <td>10010.00</td>\n",
       "    </tr>\n",
       "    <tr>\n",
       "      <th>children</th>\n",
       "      <td>1338.0</td>\n",
       "      <td>1.094918</td>\n",
       "      <td>1.205493</td>\n",
       "      <td>0.00</td>\n",
       "      <td>0.00000</td>\n",
       "      <td>1.00</td>\n",
       "      <td>2.00000</td>\n",
       "      <td>5.00</td>\n",
       "    </tr>\n",
       "    <tr>\n",
       "      <th>charges</th>\n",
       "      <td>1338.0</td>\n",
       "      <td>13270.422414</td>\n",
       "      <td>12110.011240</td>\n",
       "      <td>1121.87</td>\n",
       "      <td>4740.28750</td>\n",
       "      <td>9382.03</td>\n",
       "      <td>16639.91500</td>\n",
       "      <td>63770.43</td>\n",
       "    </tr>\n",
       "  </tbody>\n",
       "</table>\n",
       "</div>"
      ],
      "text/plain": [
       "           count          mean           std      min         25%      50%  \\\n",
       "age       1338.0     39.207025     14.049960    18.00    27.00000    39.00   \n",
       "bmi       1338.0     30.663397      6.098187    15.96    26.29625    30.40   \n",
       "steps     1338.0   5328.623318   2453.643236  3000.00  3008.00000  4007.00   \n",
       "children  1338.0      1.094918      1.205493     0.00     0.00000     1.00   \n",
       "charges   1338.0  13270.422414  12110.011240  1121.87  4740.28750  9382.03   \n",
       "\n",
       "                  75%       max  \n",
       "age          51.00000     64.00  \n",
       "bmi          34.69375     53.13  \n",
       "steps      8004.00000  10010.00  \n",
       "children      2.00000      5.00  \n",
       "charges   16639.91500  63770.43  "
      ]
     },
     "execution_count": 11,
     "metadata": {},
     "output_type": "execute_result"
    }
   ],
   "source": [
    "data.describe().transpose()"
   ]
  },
  {
   "cell_type": "code",
   "execution_count": 12,
   "id": "b02b93f6",
   "metadata": {},
   "outputs": [],
   "source": [
    "# create a function that shows the summary for Quantitative Data (Numerical)\n",
    "def summary(x):\n",
    "    # min, median, max\n",
    "    x_min = data[x].min()\n",
    "    x_max = data[x].max()\n",
    "    Q1 = data[x].quantile(0.25)\n",
    "    Q2 = data[x].quantile(0.50)\n",
    "    Q3 = data[x].quantile(0.75)\n",
    "    print(f'5 Point Summary of {x.capitalize()} Attribute:\\n'\n",
    "          f'{x.capitalize()}(min) : {x_min}\\n'\n",
    "          f'Q1                    : {Q1}\\n'\n",
    "          f'Q2(Median)            : {Q2}\\n'\n",
    "          f'Q3                    : {Q3}\\n'\n",
    "          f'{x.capitalize()}(max) : {x_max}')\n",
    "    \n",
    "    fig = plt.figure(figsize=(16, 10)) # figure size\n",
    "    \n",
    "    # distribution plot\n",
    "    plt.subplot(221)\n",
    "    ax = data[x].plot.hist(bins=12, alpha=0.5, color = 'r')\n",
    "    plt.title(f'{x.capitalize()} Histogram Distribution')  \n",
    "    plt.xlabel(x)\n",
    "    \n",
    "    # density plot\n",
    "    plt.subplot(222)\n",
    "    ax2 = data[x].plot.kde()\n",
    "    plt.title(f'{x.capitalize()} Density Distribution')  \n",
    "    plt.xlabel(x)\n",
    "    \n",
    "    \n",
    "    # box plot\n",
    "    plt.subplot(223)\n",
    "    ax3 = data[x].plot.box()\n",
    "    plt.title(f'{x.capitalize()} Boxplot')\n",
    "    \n",
    "    plt.show()\n",
    "    \n",
    "    # outliers \n",
    "    IQR = Q3 - Q1 # Interquartile range\n",
    "    total_outlier_num = ((data[x] < (Q1 - 1.5 * IQR)) | (data[x] > (Q3 + 1.5 * IQR))).sum()\n",
    "    print(f'Mean {x.capitalize()} = {data[x].mean()}')\n",
    "    print(f'Total number of outliers in {x} distribution: {total_outlier_num}.')  \n"
   ]
  },
  {
   "cell_type": "markdown",
   "id": "0f0bbacc",
   "metadata": {},
   "source": [
    "#### 4.4.1 Age"
   ]
  },
  {
   "cell_type": "code",
   "execution_count": 13,
   "id": "5180f3fa",
   "metadata": {},
   "outputs": [
    {
     "name": "stdout",
     "output_type": "stream",
     "text": [
      "5 Point Summary of Age Attribute:\n",
      "Age(min) : 18\n",
      "Q1                    : 27.0\n",
      "Q2(Median)            : 39.0\n",
      "Q3                    : 51.0\n",
      "Age(max) : 64\n"
     ]
    },
    {
     "data": {
      "image/png": "[encoded data removed]",
      "text/plain": [
       "<Figure size 1152x720 with 3 Axes>"
      ]
     },
     "metadata": {
      "needs_background": "light"
     },
     "output_type": "display_data"
    },
    {
     "name": "stdout",
     "output_type": "stream",
     "text": [
      "Mean Age = 39.20702541106129\n",
      "Total number of outliers in age distribution: 0.\n"
     ]
    }
   ],
   "source": [
    "summary('age') # summary for age"
   ]
  },
  {
   "cell_type": "markdown",
   "id": "2534192a",
   "metadata": {
    "scrolled": true
   },
   "source": [
    "Obeservation for age: <br>\n",
    "- Uniform Distribution\n",
    "- Mean of 39.2 and Median of 39.0\n",
    "- Lowest age being 18 and highest being 64\n",
    "- No outlier values"
   ]
  },
  {
   "cell_type": "code",
   "execution_count": 14,
   "id": "61776714",
   "metadata": {},
   "outputs": [
    {
     "name": "stdout",
     "output_type": "stream",
     "text": [
      "Policy holder age 18 to 39 (Young Adults): 674.\n",
      "Policy holder age 40 to 59 (Middle-aged Adults): 550.\n",
      "Policy holder age 60 to 64 (Old Adults):114.\n"
     ]
    }
   ],
   "source": [
    "# How many of the policyholder are within the range of:\n",
    "\n",
    "# 1. 18 to 39 - Young Adults\n",
    "df = data[data['age'] <= 39]\n",
    "print(f'Policy holder age 18 to 39 (Young Adults): {len(df)}.')\n",
    "\n",
    "# 2. 40 to 59 - Middle-aged Adults\n",
    "df = data[(data['age'] <= 59) & (data['age'] >= 40)]\n",
    "print(f'Policy holder age 40 to 59 (Middle-aged Adults): {len(df)}.')\n",
    "\n",
    "# 3. 60 to 64 - Old Adults\n",
    "df = data[(data['age'] <= 64) & (data['age'] >= 60)]\n",
    "print(f'Policy holder age 60 to 64 (Old Adults):{len(df)}.')"
   ]
  },
  {
   "cell_type": "markdown",
   "id": "4a180f0f",
   "metadata": {},
   "source": [
    "Obeservation for age:\n",
    "\n",
    "- There are more young adults policy holders with a total of 674\n",
    "- Followed by middle-aged adults policy holders with a total of 550\n",
    "- Lastly, old adults policy holders with a total of 114"
   ]
  },
  {
   "cell_type": "markdown",
   "id": "c18738fc",
   "metadata": {},
   "source": [
    "#### 4.4.2 BMI"
   ]
  },
  {
   "cell_type": "code",
   "execution_count": 15,
   "id": "40d1e681",
   "metadata": {},
   "outputs": [
    {
     "name": "stdout",
     "output_type": "stream",
     "text": [
      "5 Point Summary of Bmi Attribute:\n",
      "Bmi(min) : 15.96\n",
      "Q1                    : 26.29625\n",
      "Q2(Median)            : 30.4\n",
      "Q3                    : 34.69375\n",
      "Bmi(max) : 53.13\n"
     ]
    },
    {
     "data": {
      "image/png": "[encoded data removed]",
      "text/plain": [
       "<Figure size 1152x720 with 3 Axes>"
      ]
     },
     "metadata": {
      "needs_background": "light"
     },
     "output_type": "display_data"
    },
    {
     "name": "stdout",
     "output_type": "stream",
     "text": [
      "Mean Bmi = 30.663396860986538\n",
      "Total number of outliers in bmi distribution: 9.\n"
     ]
    }
   ],
   "source": [
    "summary('bmi') # summary for BMI"
   ]
  },
  {
   "cell_type": "markdown",
   "id": "b4e4d6ff",
   "metadata": {},
   "source": [
    "Obeservation for BMI:\n",
    "\n",
    "- Normal Distribution\n",
    "- Mean of 30.66 and Median of 30.4\n",
    "- 9 outliers, moslty on the higher end\n",
    "- Lowest BMI is 15.96 & highest BMI is 53.13"
   ]
  },
  {
   "cell_type": "code",
   "execution_count": 16,
   "id": "7269962d",
   "metadata": {},
   "outputs": [
    {
     "data": {
      "text/html": [
       "<div>\n",
       "<style scoped>\n",
       "    .dataframe tbody tr th:only-of-type {\n",
       "        vertical-align: middle;\n",
       "    }\n",
       "\n",
       "    .dataframe tbody tr th {\n",
       "        vertical-align: top;\n",
       "    }\n",
       "\n",
       "    .dataframe thead th {\n",
       "        text-align: right;\n",
       "    }\n",
       "</style>\n",
       "<table border=\"1\" class=\"dataframe\">\n",
       "  <thead>\n",
       "    <tr style=\"text-align: right;\">\n",
       "      <th></th>\n",
       "      <th>age</th>\n",
       "      <th>sex</th>\n",
       "      <th>bmi</th>\n",
       "      <th>steps</th>\n",
       "      <th>children</th>\n",
       "      <th>smoker</th>\n",
       "      <th>region</th>\n",
       "      <th>charges</th>\n",
       "      <th>insuranceclaim</th>\n",
       "    </tr>\n",
       "  </thead>\n",
       "  <tbody>\n",
       "    <tr>\n",
       "      <th>1317</th>\n",
       "      <td>18</td>\n",
       "      <td>male</td>\n",
       "      <td>53.13</td>\n",
       "      <td>3005</td>\n",
       "      <td>0</td>\n",
       "      <td>non-smoker</td>\n",
       "      <td>southeast</td>\n",
       "      <td>1163.46</td>\n",
       "      <td>yes</td>\n",
       "    </tr>\n",
       "  </tbody>\n",
       "</table>\n",
       "</div>"
      ],
      "text/plain": [
       "      age   sex    bmi  steps  children      smoker     region  charges  \\\n",
       "1317   18  male  53.13   3005         0  non-smoker  southeast  1163.46   \n",
       "\n",
       "     insuranceclaim  \n",
       "1317            yes  "
      ]
     },
     "execution_count": 16,
     "metadata": {},
     "output_type": "execute_result"
    }
   ],
   "source": [
    "# Identify the person with the highest bmi\n",
    "df = data[data['bmi'] == data['bmi'].max()]\n",
    "df"
   ]
  },
  {
   "cell_type": "code",
   "execution_count": 17,
   "id": "8957766d",
   "metadata": {},
   "outputs": [
    {
     "data": {
      "text/html": [
       "<div>\n",
       "<style scoped>\n",
       "    .dataframe tbody tr th:only-of-type {\n",
       "        vertical-align: middle;\n",
       "    }\n",
       "\n",
       "    .dataframe tbody tr th {\n",
       "        vertical-align: top;\n",
       "    }\n",
       "\n",
       "    .dataframe thead th {\n",
       "        text-align: right;\n",
       "    }\n",
       "</style>\n",
       "<table border=\"1\" class=\"dataframe\">\n",
       "  <thead>\n",
       "    <tr style=\"text-align: right;\">\n",
       "      <th></th>\n",
       "      <th>age</th>\n",
       "      <th>sex</th>\n",
       "      <th>bmi</th>\n",
       "      <th>steps</th>\n",
       "      <th>children</th>\n",
       "      <th>smoker</th>\n",
       "      <th>region</th>\n",
       "      <th>charges</th>\n",
       "      <th>insuranceclaim</th>\n",
       "    </tr>\n",
       "  </thead>\n",
       "  <tbody>\n",
       "    <tr>\n",
       "      <th>172</th>\n",
       "      <td>18</td>\n",
       "      <td>male</td>\n",
       "      <td>15.96</td>\n",
       "      <td>10007</td>\n",
       "      <td>0</td>\n",
       "      <td>non-smoker</td>\n",
       "      <td>northeast</td>\n",
       "      <td>1694.8</td>\n",
       "      <td>yes</td>\n",
       "    </tr>\n",
       "  </tbody>\n",
       "</table>\n",
       "</div>"
      ],
      "text/plain": [
       "     age   sex    bmi  steps  children      smoker     region  charges  \\\n",
       "172   18  male  15.96  10007         0  non-smoker  northeast   1694.8   \n",
       "\n",
       "    insuranceclaim  \n",
       "172            yes  "
      ]
     },
     "execution_count": 17,
     "metadata": {},
     "output_type": "execute_result"
    }
   ],
   "source": [
    "# Identify the person with the lowest bmi\n",
    "df = data[data['bmi'] == data['bmi'].min()]\n",
    "df"
   ]
  },
  {
   "cell_type": "code",
   "execution_count": 18,
   "id": "8878c544",
   "metadata": {},
   "outputs": [
    {
     "name": "stdout",
     "output_type": "stream",
     "text": [
      "Policy holder with healthy BMI: 229.\n",
      "  *17.12 % of policy holders are healthyweight.\n",
      "Policy holder with underweight BMI: 69.\n",
      "  *5.16 % of policy holders are underweight.\n",
      "Policy holder with overweight BMI: 1060.\n",
      "  *79.22 % of policy holders are overweight.\n"
     ]
    },
    {
     "data": {
      "image/png": "[encoded data removed]",
      "text/plain": [
       "<Figure size 432x288 with 1 Axes>"
      ]
     },
     "metadata": {},
     "output_type": "display_data"
    }
   ],
   "source": [
    "# How many of the policyholder are within the range of:\n",
    "weight = []\n",
    "labels = [\"Heathy\", \"Underweight\", \"Overweight\"]\n",
    "\n",
    "# healthy bmi range (18.5 to 24.9)\n",
    "df = data[(data['bmi'] <= 24.9) & (data['age'] >= 18.5)]\n",
    "print(f'Policy holder with healthy BMI: {len(df)}.')\n",
    "print(\"  *{:.2f}\".format((len(df)/len(data)*100)), \"% of policy holders are healthyweight.\")\n",
    "weight.append(len(df))\n",
    "\n",
    "# underweight (< 18.5)\n",
    "df = data[data['age'] < 18.5]\n",
    "print(f'Policy holder with underweight BMI: {len(df)}.')\n",
    "print(\"  *{:.2f}\".format((len(df)/len(data)*100)), \"% of policy holders are underweight.\")\n",
    "weight.append(len(df))\n",
    "\n",
    "# overweight (> 24.9)\n",
    "df = data[data['age'] > 24.9]\n",
    "print(f'Policy holder with overweight BMI: {len(df)}.')\n",
    "print(\"  *{:.2f}\".format((len(df)/len(data)*100)), \"% of policy holders are overweight.\")\n",
    "weight.append(len(df))\n",
    "\n",
    "y = np.array(weight)\n",
    "          \n",
    "plt.pie(y, labels = labels)\n",
    "plt.legend()\n",
    "plt.show()     "
   ]
  },
  {
   "cell_type": "markdown",
   "id": "c59630f5",
   "metadata": {},
   "source": [
    "Obeservation for BMI:\n",
    "\n",
    "- Majority of the policy holders are overweight (79.22%)\n",
    "- 5.16 % of policy holders are underweight.\n",
    "- 17.12 % of policy holders are healthyweight."
   ]
  },
  {
   "cell_type": "markdown",
   "id": "e143c537",
   "metadata": {},
   "source": [
    "#### 4.4.3 Charges"
   ]
  },
  {
   "cell_type": "code",
   "execution_count": 19,
   "id": "03925129",
   "metadata": {},
   "outputs": [
    {
     "name": "stdout",
     "output_type": "stream",
     "text": [
      "5 Point Summary of Charges Attribute:\n",
      "Charges(min) : 1121.87\n",
      "Q1                    : 4740.2875\n",
      "Q2(Median)            : 9382.029999999999\n",
      "Q3                    : 16639.915\n",
      "Charges(max) : 63770.43\n"
     ]
    },
    {
     "data": {
      "image/png": "[encoded data removed]",
      "text/plain": [
       "<Figure size 1152x720 with 3 Axes>"
      ]
     },
     "metadata": {
      "needs_background": "light"
     },
     "output_type": "display_data"
    },
    {
     "name": "stdout",
     "output_type": "stream",
     "text": [
      "Mean Charges = 13270.422414050803\n",
      "Total number of outliers in charges distribution: 139.\n"
     ]
    }
   ],
   "source": [
    "summary('charges') # summary for Charge"
   ]
  },
  {
   "cell_type": "code",
   "execution_count": 20,
   "id": "51e8e944",
   "metadata": {},
   "outputs": [
    {
     "data": {
      "text/html": [
       "<div>\n",
       "<style scoped>\n",
       "    .dataframe tbody tr th:only-of-type {\n",
       "        vertical-align: middle;\n",
       "    }\n",
       "\n",
       "    .dataframe tbody tr th {\n",
       "        vertical-align: top;\n",
       "    }\n",
       "\n",
       "    .dataframe thead th {\n",
       "        text-align: right;\n",
       "    }\n",
       "</style>\n",
       "<table border=\"1\" class=\"dataframe\">\n",
       "  <thead>\n",
       "    <tr style=\"text-align: right;\">\n",
       "      <th></th>\n",
       "      <th>age</th>\n",
       "      <th>sex</th>\n",
       "      <th>bmi</th>\n",
       "      <th>steps</th>\n",
       "      <th>children</th>\n",
       "      <th>smoker</th>\n",
       "      <th>region</th>\n",
       "      <th>charges</th>\n",
       "      <th>insuranceclaim</th>\n",
       "    </tr>\n",
       "  </thead>\n",
       "  <tbody>\n",
       "    <tr>\n",
       "      <th>543</th>\n",
       "      <td>54</td>\n",
       "      <td>female</td>\n",
       "      <td>47.41</td>\n",
       "      <td>4010</td>\n",
       "      <td>0</td>\n",
       "      <td>smoker</td>\n",
       "      <td>southeast</td>\n",
       "      <td>63770.43</td>\n",
       "      <td>yes</td>\n",
       "    </tr>\n",
       "  </tbody>\n",
       "</table>\n",
       "</div>"
      ],
      "text/plain": [
       "     age     sex    bmi  steps  children  smoker     region   charges  \\\n",
       "543   54  female  47.41   4010         0  smoker  southeast  63770.43   \n",
       "\n",
       "    insuranceclaim  \n",
       "543            yes  "
      ]
     },
     "execution_count": 20,
     "metadata": {},
     "output_type": "execute_result"
    }
   ],
   "source": [
    "# Identify the person who paid the highest charges\n",
    "data[data['charges'] == data['charges'].max()]"
   ]
  },
  {
   "cell_type": "code",
   "execution_count": 21,
   "id": "b7c77f1e",
   "metadata": {},
   "outputs": [
    {
     "name": "stdout",
     "output_type": "stream",
     "text": [
      "mean for oldest people: \n",
      " age            64.000000\n",
      "bmi            32.976136\n",
      "steps        4005.136364\n",
      "children        0.772727\n",
      "charges     23275.530909\n",
      "dtype: float64 \n",
      "\n",
      "median for oldest people: \n",
      " age            64.000\n",
      "bmi            33.840\n",
      "steps        3009.000\n",
      "children        0.000\n",
      "charges     15528.755\n",
      "dtype: float64\n"
     ]
    },
    {
     "name": "stderr",
     "output_type": "stream",
     "text": [
      "C:\\Users\\USER\\AppData\\Local\\Temp\\ipykernel_16940\\2868103625.py:2: FutureWarning: Dropping of nuisance columns in DataFrame reductions (with 'numeric_only=None') is deprecated; in a future version this will raise TypeError.  Select only valid columns before calling the reduction.\n",
      "  print(\"mean for oldest people: \\n\" , data[data['age'] == data['age'].max()].mean() , \"\\n\")\n",
      "C:\\Users\\USER\\AppData\\Local\\Temp\\ipykernel_16940\\2868103625.py:3: FutureWarning: Dropping of nuisance columns in DataFrame reductions (with 'numeric_only=None') is deprecated; in a future version this will raise TypeError.  Select only valid columns before calling the reduction.\n",
      "  print(\"median for oldest people: \\n\" , data[data['age'] == data['age'].max()].median())\n"
     ]
    }
   ],
   "source": [
    "# Identify the oldest person, and compare their charges with the rest\n",
    "print(\"mean for oldest people: \\n\" , data[data['age'] == data['age'].max()].mean() , \"\\n\")\n",
    "print(\"median for oldest people: \\n\" , data[data['age'] == data['age'].max()].median())"
   ]
  },
  {
   "cell_type": "code",
   "execution_count": 22,
   "id": "a1f7904c",
   "metadata": {},
   "outputs": [
    {
     "name": "stdout",
     "output_type": "stream",
     "text": [
      "mean for youngest people:\n",
      " age           18.000000\n",
      "bmi           31.326159\n",
      "steps       5149.724638\n",
      "children       0.449275\n",
      "charges     7086.217971\n",
      "dtype: float64 \n",
      "\n",
      "median for youngest people:\n",
      " age           18.00\n",
      "bmi           31.35\n",
      "steps       4003.00\n",
      "children       0.00\n",
      "charges     2198.19\n",
      "dtype: float64\n"
     ]
    },
    {
     "name": "stderr",
     "output_type": "stream",
     "text": [
      "C:\\Users\\USER\\AppData\\Local\\Temp\\ipykernel_16940\\1421294715.py:2: FutureWarning: Dropping of nuisance columns in DataFrame reductions (with 'numeric_only=None') is deprecated; in a future version this will raise TypeError.  Select only valid columns before calling the reduction.\n",
      "  print(\"mean for youngest people:\\n\" , data[data['age'] == data['age'].min()].mean() , \"\\n\")\n",
      "C:\\Users\\USER\\AppData\\Local\\Temp\\ipykernel_16940\\1421294715.py:3: FutureWarning: Dropping of nuisance columns in DataFrame reductions (with 'numeric_only=None') is deprecated; in a future version this will raise TypeError.  Select only valid columns before calling the reduction.\n",
      "  print(\"median for youngest people:\\n\" , data[data['age'] == data['age'].min()].median())\n"
     ]
    }
   ],
   "source": [
    "# Identify the youngest person, and compare their charges with the rest\n",
    "print(\"mean for youngest people:\\n\" , data[data['age'] == data['age'].min()].mean() , \"\\n\")\n",
    "print(\"median for youngest people:\\n\" , data[data['age'] == data['age'].min()].median())"
   ]
  },
  {
   "cell_type": "code",
   "execution_count": 23,
   "id": "e06aaa16",
   "metadata": {},
   "outputs": [
    {
     "data": {
      "text/html": [
       "<div>\n",
       "<style scoped>\n",
       "    .dataframe tbody tr th:only-of-type {\n",
       "        vertical-align: middle;\n",
       "    }\n",
       "\n",
       "    .dataframe tbody tr th {\n",
       "        vertical-align: top;\n",
       "    }\n",
       "\n",
       "    .dataframe thead th {\n",
       "        text-align: right;\n",
       "    }\n",
       "</style>\n",
       "<table border=\"1\" class=\"dataframe\">\n",
       "  <thead>\n",
       "    <tr style=\"text-align: right;\">\n",
       "      <th></th>\n",
       "      <th>age</th>\n",
       "      <th>sex</th>\n",
       "      <th>bmi</th>\n",
       "      <th>steps</th>\n",
       "      <th>children</th>\n",
       "      <th>smoker</th>\n",
       "      <th>region</th>\n",
       "      <th>charges</th>\n",
       "      <th>insuranceclaim</th>\n",
       "    </tr>\n",
       "  </thead>\n",
       "  <tbody>\n",
       "    <tr>\n",
       "      <th>1317</th>\n",
       "      <td>18</td>\n",
       "      <td>male</td>\n",
       "      <td>53.13</td>\n",
       "      <td>3005</td>\n",
       "      <td>0</td>\n",
       "      <td>non-smoker</td>\n",
       "      <td>southeast</td>\n",
       "      <td>1163.46</td>\n",
       "      <td>yes</td>\n",
       "    </tr>\n",
       "  </tbody>\n",
       "</table>\n",
       "</div>"
      ],
      "text/plain": [
       "      age   sex    bmi  steps  children      smoker     region  charges  \\\n",
       "1317   18  male  53.13   3005         0  non-smoker  southeast  1163.46   \n",
       "\n",
       "     insuranceclaim  \n",
       "1317            yes  "
      ]
     },
     "execution_count": 23,
     "metadata": {},
     "output_type": "execute_result"
    }
   ],
   "source": [
    "# Identify the highest bmi, and compare his charges with the rest\n",
    "data[data['bmi'] == data['bmi'].max()]"
   ]
  },
  {
   "cell_type": "markdown",
   "id": "0d7f4251",
   "metadata": {},
   "source": [
    "Obeservation for Charges:\n",
    "\n",
    "- Distribution is heavily skewed to the right.\n",
    "- Mean of 13270.42 and Median of 9382.03\n",
    "- 139 outliers, moslty on the higher end\n",
    "- Lowest charges is 1121.87 & highest charges is 63770.43\n",
    "- The person with the highest charge is a 54 y/o women with a overweight bmi\n",
    "- The person with the highest bmi is aged 18 and he is paying less charges as compared to the median and mean\n",
    "- The oldest people paid significantly more charges as compared to the younger people with a mean and median of (23275.53, 15528.76) for the oldest people and (7086.22, 2198.19) for the youngest."
   ]
  },
  {
   "cell_type": "markdown",
   "id": "cdcd6c1d",
   "metadata": {},
   "source": [
    "#### 4.4.4 Steps"
   ]
  },
  {
   "cell_type": "code",
   "execution_count": 24,
   "id": "4068bb60",
   "metadata": {},
   "outputs": [
    {
     "name": "stdout",
     "output_type": "stream",
     "text": [
      "5 Point Summary of Steps Attribute:\n",
      "Steps(min) : 3000\n",
      "Q1                    : 3008.0\n",
      "Q2(Median)            : 4007.0\n",
      "Q3                    : 8004.0\n",
      "Steps(max) : 10010\n"
     ]
    },
    {
     "data": {
      "image/png": "[encoded data removed]",
      "text/plain": [
       "<Figure size 1152x720 with 3 Axes>"
      ]
     },
     "metadata": {
      "needs_background": "light"
     },
     "output_type": "display_data"
    },
    {
     "name": "stdout",
     "output_type": "stream",
     "text": [
      "Mean Steps = 5328.62331838565\n",
      "Total number of outliers in steps distribution: 0.\n"
     ]
    }
   ],
   "source": [
    "summary('steps') # summary for Steps"
   ]
  },
  {
   "cell_type": "code",
   "execution_count": 25,
   "id": "806e1ad9",
   "metadata": {},
   "outputs": [
    {
     "name": "stdout",
     "output_type": "stream",
     "text": [
      "mean for highest steps:\n",
      " age            26.40\n",
      "bmi            22.12\n",
      "steps       10010.00\n",
      "children        1.00\n",
      "charges      7504.42\n",
      "dtype: float64 \n",
      "\n",
      "median for highest steps:\n",
      " age            28.00\n",
      "bmi            23.32\n",
      "steps       10010.00\n",
      "children        1.00\n",
      "charges      3732.63\n",
      "dtype: float64\n"
     ]
    },
    {
     "name": "stderr",
     "output_type": "stream",
     "text": [
      "C:\\Users\\USER\\AppData\\Local\\Temp\\ipykernel_16940\\2251610423.py:2: FutureWarning: Dropping of nuisance columns in DataFrame reductions (with 'numeric_only=None') is deprecated; in a future version this will raise TypeError.  Select only valid columns before calling the reduction.\n",
      "  print(\"mean for highest steps:\\n\" , data[data['steps'] == data['steps'].max()].mean() , \"\\n\")\n",
      "C:\\Users\\USER\\AppData\\Local\\Temp\\ipykernel_16940\\2251610423.py:3: FutureWarning: Dropping of nuisance columns in DataFrame reductions (with 'numeric_only=None') is deprecated; in a future version this will raise TypeError.  Select only valid columns before calling the reduction.\n",
      "  print(\"median for highest steps:\\n\" , data[data['steps'] == data['steps'].max()].median())\n"
     ]
    }
   ],
   "source": [
    "# Identify the person with the highest steps, and compare their BMI with the rest\n",
    "print(\"mean for highest steps:\\n\" , data[data['steps'] == data['steps'].max()].mean() , \"\\n\")\n",
    "print(\"median for highest steps:\\n\" , data[data['steps'] == data['steps'].max()].median())"
   ]
  },
  {
   "cell_type": "code",
   "execution_count": 26,
   "id": "c277f08e",
   "metadata": {
    "scrolled": true
   },
   "outputs": [
    {
     "name": "stdout",
     "output_type": "stream",
     "text": [
      "mean for least steps:\n",
      " age            37.071429\n",
      "bmi            34.522381\n",
      "steps        3000.000000\n",
      "children        1.166667\n",
      "charges     14559.202619\n",
      "dtype: float64 \n",
      "\n",
      "median for least steps:\n",
      " age            36.0000\n",
      "bmi            34.1525\n",
      "steps        3000.0000\n",
      "children        1.0000\n",
      "charges     10845.4250\n",
      "dtype: float64\n"
     ]
    },
    {
     "name": "stderr",
     "output_type": "stream",
     "text": [
      "C:\\Users\\USER\\AppData\\Local\\Temp\\ipykernel_16940\\1427804171.py:2: FutureWarning: Dropping of nuisance columns in DataFrame reductions (with 'numeric_only=None') is deprecated; in a future version this will raise TypeError.  Select only valid columns before calling the reduction.\n",
      "  print(\"mean for least steps:\\n\" , data[data['steps'] == data['steps'].min()].mean() , \"\\n\")\n",
      "C:\\Users\\USER\\AppData\\Local\\Temp\\ipykernel_16940\\1427804171.py:3: FutureWarning: Dropping of nuisance columns in DataFrame reductions (with 'numeric_only=None') is deprecated; in a future version this will raise TypeError.  Select only valid columns before calling the reduction.\n",
      "  print(\"median for least steps:\\n\" , data[data['steps'] == data['steps'].min()].median())\n"
     ]
    }
   ],
   "source": [
    "# Identify the person with the least steps, and compare their BMI with the rest\n",
    "print(\"mean for least steps:\\n\" , data[data['steps'] == data['steps'].min()].mean() , \"\\n\")\n",
    "print(\"median for least steps:\\n\" , data[data['steps'] == data['steps'].min()].median())"
   ]
  },
  {
   "cell_type": "markdown",
   "id": "5db5ad71",
   "metadata": {},
   "source": [
    "Obeservation for Steps:\n",
    "\n",
    "- Distribution is heavily skewed to the right\n",
    "- Mean of 5329 and Median of 5328\n",
    "- 0 outliers\n",
    "- Lowest steps is 3008 & highest steps is 10010\n",
    "- The insured who took the highest steps have a significantly less bmi as compared to those who took the least steps, with a mean and median of (22.12, 23.32) for the insured with highest steps and (34.52, 34.15) for the least steps\n",
    "- In addition, the insured who took the highest steps also paid a significantly less charges as compared to those who took the least steps, with a mean and median of (7504.42, 3732.63) for the insured with highest steps and (14559.20, 10845.42) for the least steps"
   ]
  },
  {
   "cell_type": "markdown",
   "id": "ffd6878e",
   "metadata": {},
   "source": [
    "### 4.5. Summary and Distribution of categorical attributes:\n",
    "This is to help us get an overview of the important statistics of the numerical data. These includes: sex, smoker, region, children, and insurance claim.\n"
   ]
  },
  {
   "cell_type": "code",
   "execution_count": 27,
   "id": "62fdbe4b",
   "metadata": {},
   "outputs": [],
   "source": [
    "# Bar Chart (Values)\n",
    "def bar_chart(x):\n",
    "    fig = plt.figure(figsize=(16, 12)) # figure size\n",
    "    \n",
    "    # Bar Graph\n",
    "    plt.subplot(221)\n",
    "    ax = data[x].value_counts().plot(kind='bar',rot=0, color=['blue', 'green', 'cyan', 'black', 'red'])\n",
    "    ax.bar_label(ax.containers[0])\n",
    "    plt.title(f'{x.capitalize()} Bar Chart')  \n",
    "    plt.xlabel(x)\n",
    "    plt.ylabel(\"count\")\n",
    "    \n",
    "    plt.show() "
   ]
  },
  {
   "cell_type": "code",
   "execution_count": 28,
   "id": "d851381e",
   "metadata": {},
   "outputs": [],
   "source": [
    "# Pie Chart (Percentage)\n",
    "def pie_chart(x, explode):\n",
    "    fig = plt.figure(figsize=(16, 12)) # figure size\n",
    "    \n",
    "    plt.subplot(221)\n",
    "    \n",
    "    ax = data[x].value_counts().plot(kind='pie', autopct='%.1f%%', explode=explode)\n",
    "    plt.title(f'{x.capitalize()} Pie Chart')  \n",
    "\n",
    "    plt.show() "
   ]
  },
  {
   "cell_type": "markdown",
   "id": "a9bcbb83",
   "metadata": {},
   "source": [
    "#### 4.5.1 Sex"
   ]
  },
  {
   "cell_type": "code",
   "execution_count": 29,
   "id": "3e4a8580",
   "metadata": {
    "scrolled": false
   },
   "outputs": [
    {
     "data": {
      "image/png": "[encoded data removed]",
      "text/plain": [
       "<Figure size 1152x864 with 1 Axes>"
      ]
     },
     "metadata": {
      "needs_background": "light"
     },
     "output_type": "display_data"
    },
    {
     "data": {
      "image/png": "[encoded data removed]",
      "text/plain": [
       "<Figure size 1152x864 with 1 Axes>"
      ]
     },
     "metadata": {},
     "output_type": "display_data"
    }
   ],
   "source": [
    "bar_chart(\"sex\")\n",
    "\n",
    "# Define the ratio of gap of each fragment in a tuple\n",
    "explode = (0.05,0.05)\n",
    "\n",
    "pie_chart(\"sex\", explode)"
   ]
  },
  {
   "cell_type": "markdown",
   "id": "c16f3f77",
   "metadata": {},
   "source": [
    "Obeservation for Age:\n",
    "- The genders are evenly distributed with 676 males (50.5%) and 662 females (49.5%)\n"
   ]
  },
  {
   "cell_type": "markdown",
   "id": "fbb8fb12",
   "metadata": {},
   "source": [
    "#### 4.5.1 Smoker"
   ]
  },
  {
   "cell_type": "code",
   "execution_count": 30,
   "id": "b3a945fb",
   "metadata": {},
   "outputs": [
    {
     "data": {
      "image/png": "[encoded data removed]",
      "text/plain": [
       "<Figure size 1152x864 with 1 Axes>"
      ]
     },
     "metadata": {
      "needs_background": "light"
     },
     "output_type": "display_data"
    },
    {
     "data": {
      "image/png": "[encoded data removed]",
      "text/plain": [
       "<Figure size 1152x864 with 1 Axes>"
      ]
     },
     "metadata": {},
     "output_type": "display_data"
    }
   ],
   "source": [
    "bar_chart(\"smoker\")\n",
    "\n",
    "# Define the ratio of gap of each fragment in a tuple\n",
    "explode = (0.05,0.05)\n",
    "\n",
    "pie_chart(\"smoker\", explode)"
   ]
  },
  {
   "cell_type": "code",
   "execution_count": 31,
   "id": "45c0c5e8",
   "metadata": {},
   "outputs": [
    {
     "data": {
      "image/png": "[encoded data removed]",
      "text/plain": [
       "<Figure size 576x432 with 1 Axes>"
      ]
     },
     "metadata": {
      "needs_background": "light"
     },
     "output_type": "display_data"
    }
   ],
   "source": [
    "# Are charges more expensive for smoker as compared to non-smoker?\n",
    "df = data['charges'].groupby(data['smoker']).mean()\n",
    "\n",
    "fig = plt.figure(figsize=(8, 6)) # figure size\n",
    "ax = df.plot.bar(color=['blue', 'green'])\n",
    "ax.bar_label(ax.containers[0])\n",
    "plt.title(\"Smoker vs Charges\")  \n",
    "plt.ylabel(\"charges\")\n",
    "    \n",
    "plt.show() "
   ]
  },
  {
   "cell_type": "markdown",
   "id": "45c2fe25",
   "metadata": {},
   "source": [
    "Obeservation for Smoker:\n",
    "- There are about 4 times more non-smokers (1064) as compared to smokers (274)\n",
    "- The average charges for smokers are significantly higher as compared to non-smokers"
   ]
  },
  {
   "cell_type": "markdown",
   "id": "e9a335fa",
   "metadata": {},
   "source": [
    "#### 4.5.1 Region"
   ]
  },
  {
   "cell_type": "code",
   "execution_count": 32,
   "id": "49328d20",
   "metadata": {
    "scrolled": false
   },
   "outputs": [
    {
     "data": {
      "image/png": "[encoded data removed]",
      "text/plain": [
       "<Figure size 1152x864 with 1 Axes>"
      ]
     },
     "metadata": {
      "needs_background": "light"
     },
     "output_type": "display_data"
    },
    {
     "data": {
      "image/png": "[encoded data removed]",
      "text/plain": [
       "<Figure size 1152x864 with 1 Axes>"
      ]
     },
     "metadata": {},
     "output_type": "display_data"
    }
   ],
   "source": [
    "bar_chart(\"region\")\n",
    "\n",
    "# Define the ratio of gap of each fragment in a tuple\n",
    "explode = (0.05,0.05,0.05,0.05)\n",
    "\n",
    "pie_chart(\"region\", explode)"
   ]
  },
  {
   "cell_type": "code",
   "execution_count": 33,
   "id": "8677700d",
   "metadata": {},
   "outputs": [
    {
     "ename": "SyntaxError",
     "evalue": "invalid syntax (1362492385.py, line 1)",
     "output_type": "error",
     "traceback": [
      "\u001b[1;36m  Input \u001b[1;32mIn [33]\u001b[1;36m\u001b[0m\n\u001b[1;33m    Obeservation for Region:\u001b[0m\n\u001b[1;37m                 ^\u001b[0m\n\u001b[1;31mSyntaxError\u001b[0m\u001b[1;31m:\u001b[0m invalid syntax\n"
     ]
    }
   ],
   "source": [
    "Obeservation for Region:\n",
    "- All the 4 regions are evenly distributed in the dataset"
   ]
  },
  {
   "cell_type": "markdown",
   "id": "467f9d15",
   "metadata": {},
   "source": [
    "#### 4.5.1 Children"
   ]
  },
  {
   "cell_type": "code",
   "execution_count": null,
   "id": "2a796ca4",
   "metadata": {},
   "outputs": [],
   "source": [
    "bar_chart(\"children\")\n",
    "\n",
    "# Define the ratio of gap of each fragment in a tuple\n",
    "explode = (0.05,0.05,0.05,0.05,0.10,0.10)\n",
    "\n",
    "pie_chart(\"children\", explode)"
   ]
  },
  {
   "cell_type": "markdown",
   "id": "a619c326",
   "metadata": {},
   "source": [
    "Obeservation for Chidlren:\n",
    "- About half (42.9%/574) of the dataset have 0 children"
   ]
  },
  {
   "cell_type": "markdown",
   "id": "8615d00c",
   "metadata": {},
   "source": [
    "#### 4.5.1 Insurance Claim"
   ]
  },
  {
   "cell_type": "markdown",
   "id": "17ed1ac9",
   "metadata": {},
   "source": [
    "# 5. Correlation"
   ]
  },
  {
   "cell_type": "code",
   "execution_count": null,
   "id": "3ee3e745",
   "metadata": {},
   "outputs": [],
   "source": [
    "# EXTRA (REQUIRES SEABORN)\n",
    "import seaborn as sns # data visualisation\n",
    "corr = data.corr()\n",
    "plt.figure(figsize=(10, 8))\n",
    "sns.heatmap(corr, annot=True, cmap = 'summer_r')"
   ]
  },
  {
   "cell_type": "markdown",
   "id": "146cb4f2",
   "metadata": {},
   "source": [
    "Obeservation for Correlation:\n",
    "\n",
    "- Charges show a weak positive correlation with Age and BMI\n",
    "- Charges show a strong positive correlation with smoking person\n",
    "- Charges, Smoking, Children, Steps and BMI show a weak positive correlation with insurance claim\n",
    "- Steps show a strong negative correlation with BMI"
   ]
  },
  {
   "cell_type": "code",
   "execution_count": null,
   "id": "9c4fae92",
   "metadata": {},
   "outputs": [],
   "source": []
  },
  {
   "cell_type": "code",
   "execution_count": null,
   "id": "756f77a5",
   "metadata": {},
   "outputs": [],
   "source": []
  },
  {
   "cell_type": "code",
   "execution_count": null,
   "id": "c17115d3",
   "metadata": {},
   "outputs": [],
   "source": []
  }
 ],
 "metadata": {
  "kernelspec": {
   "display_name": "Python 3 (ipykernel)",
   "language": "python",
   "name": "python3"
  },
  "language_info": {
   "codemirror_mode": {
    "name": "ipython",
    "version": 3
   },
   "file_extension": ".py",
   "mimetype": "text/x-python",
   "name": "python",
   "nbconvert_exporter": "python",
   "pygments_lexer": "ipython3",
   "version": "3.9.12"
  }
 },
 "nbformat": 4,
 "nbformat_minor": 5
}
